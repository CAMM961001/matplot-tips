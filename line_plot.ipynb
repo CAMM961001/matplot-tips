{
 "cells": [
  {
   "cell_type": "code",
   "execution_count": 1,
   "id": "681a80e7-8cc6-4e29-ac7b-8c31dd439e5e",
   "metadata": {},
   "outputs": [],
   "source": [
    "import numpy as np\n",
    "import pandas as pd\n",
    "import matplotlib.pyplot as plt"
   ]
  },
  {
   "cell_type": "markdown",
   "id": "3bd19a9d-f809-4e0a-9014-30222cfa0fa5",
   "metadata": {},
   "source": [
    "# Carreras\n",
    "\n",
    "Catálogo de carreras:\n",
    "* Datos del gran premio de Mónaco $\\rightarrow$ `circuitId: 6`\n",
    "* De 1970 en adelante"
   ]
  },
  {
   "cell_type": "code",
   "execution_count": 2,
   "id": "4bee6b1c-2f79-4030-92b3-891f8fd8f3f9",
   "metadata": {},
   "outputs": [
    {
     "name": "stdout",
     "output_type": "stream",
     "text": [
      "<class 'pandas.core.frame.DataFrame'>\n",
      "RangeIndex: 1125 entries, 0 to 1124\n",
      "Data columns (total 18 columns):\n",
      " #   Column       Non-Null Count  Dtype \n",
      "---  ------       --------------  ----- \n",
      " 0   raceId       1125 non-null   int64 \n",
      " 1   year         1125 non-null   int64 \n",
      " 2   round        1125 non-null   int64 \n",
      " 3   circuitId    1125 non-null   int64 \n",
      " 4   name         1125 non-null   object\n",
      " 5   date         1125 non-null   object\n",
      " 6   time         1125 non-null   object\n",
      " 7   url          1125 non-null   object\n",
      " 8   fp1_date     1125 non-null   object\n",
      " 9   fp1_time     1125 non-null   object\n",
      " 10  fp2_date     1125 non-null   object\n",
      " 11  fp2_time     1125 non-null   object\n",
      " 12  fp3_date     1125 non-null   object\n",
      " 13  fp3_time     1125 non-null   object\n",
      " 14  quali_date   1125 non-null   object\n",
      " 15  quali_time   1125 non-null   object\n",
      " 16  sprint_date  1125 non-null   object\n",
      " 17  sprint_time  1125 non-null   object\n",
      "dtypes: int64(4), object(14)\n",
      "memory usage: 158.3+ KB\n"
     ]
    }
   ],
   "source": [
    "pd.read_csv('data/races.csv').info()"
   ]
  },
  {
   "cell_type": "code",
   "execution_count": 3,
   "id": "d5e6ae65-329a-408d-b47d-0ce9b5f2050c",
   "metadata": {},
   "outputs": [
    {
     "data": {
      "text/html": [
       "<div>\n",
       "<style scoped>\n",
       "    .dataframe tbody tr th:only-of-type {\n",
       "        vertical-align: middle;\n",
       "    }\n",
       "\n",
       "    .dataframe tbody tr th {\n",
       "        vertical-align: top;\n",
       "    }\n",
       "\n",
       "    .dataframe thead th {\n",
       "        text-align: right;\n",
       "    }\n",
       "</style>\n",
       "<table border=\"1\" class=\"dataframe\">\n",
       "  <thead>\n",
       "    <tr style=\"text-align: right;\">\n",
       "      <th></th>\n",
       "      <th>year</th>\n",
       "      <th>circuitId</th>\n",
       "      <th>name</th>\n",
       "    </tr>\n",
       "    <tr>\n",
       "      <th>raceId</th>\n",
       "      <th></th>\n",
       "      <th></th>\n",
       "      <th></th>\n",
       "    </tr>\n",
       "  </thead>\n",
       "  <tbody>\n",
       "    <tr>\n",
       "      <th>645</th>\n",
       "      <td>1970</td>\n",
       "      <td>6</td>\n",
       "      <td>Monaco Grand Prix</td>\n",
       "    </tr>\n",
       "    <tr>\n",
       "      <th>634</th>\n",
       "      <td>1971</td>\n",
       "      <td>6</td>\n",
       "      <td>Monaco Grand Prix</td>\n",
       "    </tr>\n",
       "    <tr>\n",
       "      <th>623</th>\n",
       "      <td>1972</td>\n",
       "      <td>6</td>\n",
       "      <td>Monaco Grand Prix</td>\n",
       "    </tr>\n",
       "    <tr>\n",
       "      <th>610</th>\n",
       "      <td>1973</td>\n",
       "      <td>6</td>\n",
       "      <td>Monaco Grand Prix</td>\n",
       "    </tr>\n",
       "    <tr>\n",
       "      <th>595</th>\n",
       "      <td>1974</td>\n",
       "      <td>6</td>\n",
       "      <td>Monaco Grand Prix</td>\n",
       "    </tr>\n",
       "  </tbody>\n",
       "</table>\n",
       "</div>"
      ],
      "text/plain": [
       "        year  circuitId               name\n",
       "raceId                                    \n",
       "645     1970          6  Monaco Grand Prix\n",
       "634     1971          6  Monaco Grand Prix\n",
       "623     1972          6  Monaco Grand Prix\n",
       "610     1973          6  Monaco Grand Prix\n",
       "595     1974          6  Monaco Grand Prix"
      ]
     },
     "execution_count": 3,
     "metadata": {},
     "output_type": "execute_result"
    }
   ],
   "source": [
    "races = (\n",
    "    pd.read_csv(\n",
    "        'data/races.csv',\n",
    "        usecols=['raceId','year','circuitId','name']\n",
    "    )\n",
    "    .query('year >= 1970')\n",
    "    .query('circuitId == 6')\n",
    "    .sort_values(by='year')\n",
    "    .set_index('raceId')\n",
    ")\n",
    "\n",
    "races.head()"
   ]
  },
  {
   "cell_type": "markdown",
   "id": "3a304019-23d8-4944-a996-d2926a1a3203",
   "metadata": {},
   "source": [
    "# Tiempos de clasificación\n",
    "* La evolución del tiempo de clasificación de Pole Position"
   ]
  },
  {
   "cell_type": "code",
   "execution_count": 5,
   "id": "5cbd5f94-71ee-4790-8d31-51c007cb4591",
   "metadata": {},
   "outputs": [
    {
     "name": "stdout",
     "output_type": "stream",
     "text": [
      "<class 'pandas.core.frame.DataFrame'>\n",
      "RangeIndex: 10254 entries, 0 to 10253\n",
      "Data columns (total 9 columns):\n",
      " #   Column         Non-Null Count  Dtype \n",
      "---  ------         --------------  ----- \n",
      " 0   qualifyId      10254 non-null  int64 \n",
      " 1   raceId         10254 non-null  int64 \n",
      " 2   driverId       10254 non-null  int64 \n",
      " 3   constructorId  10254 non-null  int64 \n",
      " 4   number         10254 non-null  int64 \n",
      " 5   position       10254 non-null  int64 \n",
      " 6   q1             10254 non-null  object\n",
      " 7   q2             10241 non-null  object\n",
      " 8   q3             10227 non-null  object\n",
      "dtypes: int64(6), object(3)\n",
      "memory usage: 721.1+ KB\n"
     ]
    }
   ],
   "source": [
    "pd.read_csv('data/qualifying.csv').info()"
   ]
  },
  {
   "cell_type": "code",
   "execution_count": 6,
   "id": "1d42a0a8-5b72-4b10-9a80-173b898e0be5",
   "metadata": {},
   "outputs": [
    {
     "data": {
      "text/html": [
       "<div>\n",
       "<style scoped>\n",
       "    .dataframe tbody tr th:only-of-type {\n",
       "        vertical-align: middle;\n",
       "    }\n",
       "\n",
       "    .dataframe tbody tr th {\n",
       "        vertical-align: top;\n",
       "    }\n",
       "\n",
       "    .dataframe thead th {\n",
       "        text-align: right;\n",
       "    }\n",
       "</style>\n",
       "<table border=\"1\" class=\"dataframe\">\n",
       "  <thead>\n",
       "    <tr style=\"text-align: right;\">\n",
       "      <th></th>\n",
       "      <th>position</th>\n",
       "      <th>q3</th>\n",
       "      <th>year</th>\n",
       "      <th>minutes</th>\n",
       "      <th>seconds</th>\n",
       "      <th>time_s</th>\n",
       "    </tr>\n",
       "    <tr>\n",
       "      <th>raceId</th>\n",
       "      <th></th>\n",
       "      <th></th>\n",
       "      <th></th>\n",
       "      <th></th>\n",
       "      <th></th>\n",
       "      <th></th>\n",
       "    </tr>\n",
       "  </thead>\n",
       "  <tbody>\n",
       "    <tr>\n",
       "      <th>23</th>\n",
       "      <td>1</td>\n",
       "      <td>1:15.787</td>\n",
       "      <td>2008</td>\n",
       "      <td>1</td>\n",
       "      <td>15.787</td>\n",
       "      <td>75.787</td>\n",
       "    </tr>\n",
       "    <tr>\n",
       "      <th>40</th>\n",
       "      <td>1</td>\n",
       "      <td>1:15.726</td>\n",
       "      <td>2007</td>\n",
       "      <td>1</td>\n",
       "      <td>15.726</td>\n",
       "      <td>75.726</td>\n",
       "    </tr>\n",
       "    <tr>\n",
       "      <th>59</th>\n",
       "      <td>1</td>\n",
       "      <td>1:13.962</td>\n",
       "      <td>2006</td>\n",
       "      <td>1</td>\n",
       "      <td>13.962</td>\n",
       "      <td>73.962</td>\n",
       "    </tr>\n",
       "    <tr>\n",
       "      <th>6</th>\n",
       "      <td>1</td>\n",
       "      <td>1:14.902</td>\n",
       "      <td>2009</td>\n",
       "      <td>1</td>\n",
       "      <td>14.902</td>\n",
       "      <td>74.902</td>\n",
       "    </tr>\n",
       "    <tr>\n",
       "      <th>342</th>\n",
       "      <td>1</td>\n",
       "      <td>1:13.826</td>\n",
       "      <td>2010</td>\n",
       "      <td>1</td>\n",
       "      <td>13.826</td>\n",
       "      <td>73.826</td>\n",
       "    </tr>\n",
       "  </tbody>\n",
       "</table>\n",
       "</div>"
      ],
      "text/plain": [
       "        position        q3  year  minutes  seconds  time_s\n",
       "raceId                                                    \n",
       "23             1  1:15.787  2008        1   15.787  75.787\n",
       "40             1  1:15.726  2007        1   15.726  75.726\n",
       "59             1  1:13.962  2006        1   13.962  73.962\n",
       "6              1  1:14.902  2009        1   14.902  74.902\n",
       "342            1  1:13.826  2010        1   13.826  73.826"
      ]
     },
     "execution_count": 6,
     "metadata": {},
     "output_type": "execute_result"
    }
   ],
   "source": [
    "vdf = (\n",
    "    pd.read_csv(\n",
    "        'data/qualifying.csv',\n",
    "        usecols=['raceId','position','q3'])\n",
    "    .set_index('raceId')\n",
    "    .query('position == 1')\n",
    "    .replace('\\\\N', None)\n",
    "    .dropna()\n",
    "    .join(\n",
    "        other=races.filter(items=['year']),\n",
    "        how='inner'\n",
    "    )\n",
    "    .assign(\n",
    "        minutes = lambda df: df.q3.apply(lambda row: int(row.split(':')[0])),\n",
    "        seconds = lambda df: df.q3.apply(lambda row: float(row.split(':')[-1])),\n",
    "        time_s = lambda df: 60 * df.minutes + df.seconds\n",
    "    )\n",
    ")\n",
    "vdf.head()"
   ]
  },
  {
   "cell_type": "markdown",
   "id": "e992726a-afd1-429e-8b22-b7947ec0b9c3",
   "metadata": {},
   "source": [
    "# Line plot"
   ]
  },
  {
   "cell_type": "code",
   "execution_count": 24,
   "id": "ec19613a-e0e0-4092-8c6b-b6c59c347801",
   "metadata": {},
   "outputs": [
    {
     "data": {
      "image/png": "[encoded data removed]",
      "text/plain": [
       "<Figure size 1000x500 with 1 Axes>"
      ]
     },
     "metadata": {},
     "output_type": "display_data"
    }
   ],
   "source": [
    "# Datos de visualización\n",
    "vdf = vdf.sort_values(by='year')\n",
    "\n",
    "# Especificaciones de figura\n",
    "fig, ax = plt.subplots(figsize=(10,5))\n",
    "\n",
    "# Elementos de visualización\n",
    "ax.plot(\n",
    "    vdf.year,\n",
    "    vdf.time_s\n",
    ")\n",
    "\n",
    "# Anotaciones y estilo\n",
    "ax.set_title('Evolución de tiempo de clasificación - Mónaco')\n",
    "ax.set_xlabel('Year')\n",
    "ax.set_ylabel('Tiempo en segundos')\n",
    "fig.savefig('images/line_plot.jpg')\n",
    "\n",
    "plt.show()"
   ]
  },
  {
   "cell_type": "code",
   "execution_count": null,
   "id": "7de5aadb-f13a-49e8-8ca1-b5f487f6caf7",
   "metadata": {},
   "outputs": [],
   "source": []
  }
 ],
 "metadata": {
  "kernelspec": {
   "display_name": "Python 3 (ipykernel)",
   "language": "python",
   "name": "python3"
  },
  "language_info": {
   "codemirror_mode": {
    "name": "ipython",
    "version": 3
   },
   "file_extension": ".py",
   "mimetype": "text/x-python",
   "name": "python",
   "nbconvert_exporter": "python",
   "pygments_lexer": "ipython3",
   "version": "3.10.10"
  }
 },
 "nbformat": 4,
 "nbformat_minor": 5
}
